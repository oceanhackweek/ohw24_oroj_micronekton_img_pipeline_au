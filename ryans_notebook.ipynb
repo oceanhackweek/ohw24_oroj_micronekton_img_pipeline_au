{
 "cells": [
  {
   "cell_type": "code",
   "execution_count": null,
   "id": "1ddc2d85-e528-4cc1-893f-1371ea278c1d",
   "metadata": {},
   "outputs": [],
   "source": [
    "The model is available at \n",
    "\n",
    "https://huggingface.co/FathomNet/MBARI-midwater-supercategory-detector. \n",
    "\n",
    "To fetch it, you can either clone the repository from Hugging Face or download the weights file directly.\n",
    "\n",
    "As noted in the model card, the MBARI-midwater-supercategory-detector is a YOLOv5 model \n",
    "trained with v6.2 of the code base. I just tested with the latest version of the YOLOv5 code\n",
    "(v7.0), and that appears to be working as well. My steps for deployment follow the documentation:\n",
    "\n"
   ]
  },
  {
   "cell_type": "code",
   "execution_count": 1,
   "id": "74ecdffe-93c6-4275-abd7-d493eca03e99",
   "metadata": {},
   "outputs": [
    {
     "ename": "SyntaxError",
     "evalue": "invalid syntax (<ipython-input-1-b36bd0736300>, line 1)",
     "output_type": "error",
     "traceback": [
      "\u001b[0;36m  File \u001b[0;32m\"<ipython-input-1-b36bd0736300>\"\u001b[0;36m, line \u001b[0;32m1\u001b[0m\n\u001b[0;31m    git clone https://github.com/ultralytics/yolov5\u001b[0m\n\u001b[0m            ^\u001b[0m\n\u001b[0;31mSyntaxError\u001b[0m\u001b[0;31m:\u001b[0m invalid syntax\n"
     ]
    }
   ],
   "source": [
    "git clone https://github.com/ultralytics/yolov5\n",
    "\n",
    "cd yolov5\n",
    "pip install -r requirements.txt\n"
   ]
  },
  {
   "cell_type": "code",
   "execution_count": null,
   "id": "f04d44fb-720f-46a3-a1e3-af08deca0421",
   "metadata": {},
   "outputs": [],
   "source": [
    "Then, to perform inference, run the detect.py script (in the yolov5 directory) with the \"weights\" \n",
    "parameter pointing at the MBARI-midwater-supercategory-detector best.pt file:\n",
    "\n",
    "python detect.py --weights /path/to/MBARI-midwater-supercategory-detector/best.pt \n",
    "\n",
    "--source /path\n",
    "        images_list.txt\n",
    "\n",
    "\n",
    "I hope this helps! There are many other ways to deploy YOLOv5 models; this is just the easiest way to get up and running if you want to test locally.\n"
   ]
  },
  {
   "cell_type": "code",
   "execution_count": 1,
   "id": "c852117f-4e7f-4195-bd63-5cc63bbee2a9",
   "metadata": {},
   "outputs": [
    {
     "ename": "SyntaxError",
     "evalue": "invalid syntax (<ipython-input-1-b36bd0736300>, line 1)",
     "output_type": "error",
     "traceback": [
      "\u001b[0;36m  File \u001b[0;32m\"<ipython-input-1-b36bd0736300>\"\u001b[0;36m, line \u001b[0;32m1\u001b[0m\n\u001b[0;31m    git clone https://github.com/ultralytics/yolov5\u001b[0m\n\u001b[0m            ^\u001b[0m\n\u001b[0;31mSyntaxError\u001b[0m\u001b[0;31m:\u001b[0m invalid syntax\n"
     ]
    }
   ],
   "source": [
    "\n"
   ]
  },
  {
   "cell_type": "code",
   "execution_count": null,
   "id": "1b742b59-1dea-49ed-b93f-a9c35734d6da",
   "metadata": {},
   "outputs": [],
   "source": [
    "# Inference with detect.py\n",
    "# detect.py runs inference on a variety of sources, downloading models \n",
    "# automatically from the latest YOLOv5 release and saving results to runs/detect.\n",
    "\n",
    "\n"
   ]
  },
  {
   "cell_type": "code",
   "execution_count": null,
   "id": "d35c17d7-d6cb-4c99-9aab-9f37bed30885",
   "metadata": {},
   "outputs": [],
   "source": [
    "detect.py --weights /path/to/MBARI-midwater-supercategory-detector/best.pt\n",
    "\n",
    "python detect.py --weights yolov5s.pt --source 0                               # webcam\n",
    "                                               img.jpg                         # image\n",
    "                                               vid.mp4                         # video\n",
    "                                               screen                          # screenshot\n",
    "                                               path/                           # directory\n",
    "                                               list.txt                        # list of images\n",
    "                                               list.streams                    # list of streams\n",
    "                                               'path/*.jpg'                    # glob\n",
    "                                               'https://youtu.be/LNwODJXcvt4'  # YouTube\n",
    "                                               'rtsp://example.com/media.mp4'  # RTSP, RTMP, HTTP stream\n",
    "\n"
   ]
  },
  {
   "cell_type": "code",
   "execution_count": null,
   "id": "a78258fa-122c-45a6-9e80-44c5ddc0e859",
   "metadata": {},
   "outputs": [],
   "source": []
  },
  {
   "cell_type": "code",
   "execution_count": null,
   "id": "5d812192-dbae-40a8-9761-657ca1066d8f",
   "metadata": {},
   "outputs": [],
   "source": []
  }
 ],
 "metadata": {
  "kernelspec": {
   "display_name": "Python [conda env:analysis27-18.10]",
   "language": "python",
   "name": "conda-env-analysis27-18.10-py"
  },
  "language_info": {
   "codemirror_mode": {
    "name": "ipython",
    "version": 2
   },
   "file_extension": ".py",
   "mimetype": "text/x-python",
   "name": "python",
   "nbconvert_exporter": "python",
   "pygments_lexer": "ipython2",
   "version": "2.7.15"
  }
 },
 "nbformat": 4,
 "nbformat_minor": 5
}
